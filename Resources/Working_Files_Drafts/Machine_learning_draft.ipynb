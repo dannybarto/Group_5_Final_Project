{
 "cells": [
  {
   "cell_type": "code",
   "execution_count": 9,
   "id": "e2a7e9b5",
   "metadata": {},
   "outputs": [],
   "source": [
    "import pandas as pd\n",
    "import numpy as np\n",
    "import matplotlib.pyplot as pyplot\n",
    "from collections import Counter\n"
   ]
  },
  {
   "cell_type": "code",
   "execution_count": 2,
   "id": "4396b00b",
   "metadata": {},
   "outputs": [],
   "source": [
    "# sklearn processing and classification \n",
    "from sklearn.model_selection import train_test_split\n",
    "from sklearn.linear_model import LogisticRegression\n"
   ]
  },
  {
   "cell_type": "code",
   "execution_count": 8,
   "id": "da6974cf",
   "metadata": {},
   "outputs": [],
   "source": [
    "# sklearn classification model evaluation\n",
    "from sklearn.metrics import accuracy_score\n",
    "from sklearn.metrics import confusion_matrix"
   ]
  },
  {
   "cell_type": "code",
   "execution_count": null,
   "id": "3f5e23c0",
   "metadata": {},
   "outputs": [],
   "source": [
    "# import the data\n",
    "file_path = Path('merged_dataset.csv')\n",
    "df = pd.read_csv(file_path, skiprows=1)[:-2]\n",
    "df = df.loc[:, columns].copy()\n",
    "\n",
    "# Drop the null columns where all values are null\n",
    "df = df.dropna(axis='columns', how='all')\n",
    "\n",
    "# Drop the null rows\n",
    "df = df.dropna()\n"
   ]
  },
  {
   "cell_type": "code",
   "execution_count": null,
   "id": "366ce60b",
   "metadata": {},
   "outputs": [],
   "source": [
    "# prepare data\n",
    "# split into input and target features\n",
    "y= dataset[]\n",
    "X= dataset[[]]"
   ]
  },
  {
   "cell_type": "code",
   "execution_count": null,
   "id": "711e23f5",
   "metadata": {},
   "outputs": [],
   "source": [
    "X.describe()"
   ]
  },
  {
   "cell_type": "code",
   "execution_count": null,
   "id": "2b446e17",
   "metadata": {},
   "outputs": [],
   "source": []
  },
  {
   "cell_type": "code",
   "execution_count": null,
   "id": "35f1f06c",
   "metadata": {},
   "outputs": [],
   "source": [
    "# build model\n",
    "# split into test and training sets\n",
    "X_train, X_test, Y_train, Y_test = train_test_split(X, y, random_state=1, stratify=y)"
   ]
  },
  {
   "cell_type": "code",
   "execution_count": null,
   "id": "d566ad0f",
   "metadata": {},
   "outputs": [],
   "source": [
    "# build logisitc regression model\n",
    "model = LogisticRegression(solver='', multi_class='')\n",
    "model.fit(X_train, Y_train)"
   ]
  },
  {
   "cell_type": "code",
   "execution_count": null,
   "id": "dd606757",
   "metadata": {},
   "outputs": [],
   "source": [
    "# Print the imbalanced classification report\n",
    "from imblearn.metrics import classification_report_imbalanced\n",
    "print(classification_report_imbalanced(y_test, y_pred))"
   ]
  }
 ],
 "metadata": {
  "kernelspec": {
   "display_name": "Python 3 (ipykernel)",
   "language": "python",
   "name": "python3"
  },
  "language_info": {
   "codemirror_mode": {
    "name": "ipython",
    "version": 3
   },
   "file_extension": ".py",
   "mimetype": "text/x-python",
   "name": "python",
   "nbconvert_exporter": "python",
   "pygments_lexer": "ipython3",
   "version": "3.7.11"
  }
 },
 "nbformat": 4,
 "nbformat_minor": 5
}
