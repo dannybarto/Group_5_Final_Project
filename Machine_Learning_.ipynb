{
 "cells": [
  {
   "cell_type": "code",
   "execution_count": 157,
   "id": "e2a7e9b5",
   "metadata": {},
   "outputs": [],
   "source": [
    "import pandas as pd\n",
    "import numpy as np\n",
    "import matplotlib.pyplot as pyplot\n",
    "from collections import Counter\n",
    "import seaborn as sns\n"
   ]
  },
  {
   "cell_type": "code",
   "execution_count": 158,
   "id": "4396b00b",
   "metadata": {},
   "outputs": [],
   "source": [
    "# sklearn processing and classification \n",
    "from sklearn.model_selection import train_test_split\n",
    "from sklearn.linear_model import LogisticRegression\n",
    "from sklearn import preprocessing\n",
    "from sklearn.metrics import accuracy_score, classification_report, confusion_matrix\n"
   ]
  },
  {
   "cell_type": "code",
   "execution_count": 159,
   "id": "da6974cf",
   "metadata": {},
   "outputs": [],
   "source": [
    "# sklearn classification model evaluation\n",
    "from sklearn.metrics import accuracy_score\n",
    "from sklearn.metrics import confusion_matrix"
   ]
  },
  {
   "cell_type": "code",
   "execution_count": 160,
   "id": "3f5e23c0",
   "metadata": {},
   "outputs": [],
   "source": [
    "# import the data\n",
    "file_path = pd.read_csv('C:/Users/lizzi/School/Group_5_Final_Project/violence_count_df.csv')\n"
   ]
  },
  {
   "cell_type": "code",
   "execution_count": 161,
   "id": "5f736433",
   "metadata": {},
   "outputs": [
    {
     "data": {
      "text/html": [
       "<div>\n",
       "<style scoped>\n",
       "    .dataframe tbody tr th:only-of-type {\n",
       "        vertical-align: middle;\n",
       "    }\n",
       "\n",
       "    .dataframe tbody tr th {\n",
       "        vertical-align: top;\n",
       "    }\n",
       "\n",
       "    .dataframe thead th {\n",
       "        text-align: right;\n",
       "    }\n",
       "</style>\n",
       "<table border=\"1\" class=\"dataframe\">\n",
       "  <thead>\n",
       "    <tr style=\"text-align: right;\">\n",
       "      <th></th>\n",
       "      <th>ROW_ID</th>\n",
       "      <th>INCIDENT_REPORT_ID</th>\n",
       "      <th>DIVISION_ID</th>\n",
       "      <th>PLACE_TYPE_DESCRIPTION</th>\n",
       "      <th>CLEARANCE_STATUS</th>\n",
       "      <th>HIGHEST_NIBRS_CODE</th>\n",
       "      <th>CITY_NEW</th>\n",
       "      <th>VIOLENCE</th>\n",
       "    </tr>\n",
       "  </thead>\n",
       "  <tbody>\n",
       "    <tr>\n",
       "      <th>489979</th>\n",
       "      <td>490718</td>\n",
       "      <td>20220513_2308_489980</td>\n",
       "      <td>12</td>\n",
       "      <td>Residential</td>\n",
       "      <td>Open</td>\n",
       "      <td>13A</td>\n",
       "      <td>Charlotte</td>\n",
       "      <td>violent</td>\n",
       "    </tr>\n",
       "    <tr>\n",
       "      <th>489980</th>\n",
       "      <td>490719</td>\n",
       "      <td>20220513_2308_489981</td>\n",
       "      <td>27</td>\n",
       "      <td>Residential</td>\n",
       "      <td>Open</td>\n",
       "      <td>290</td>\n",
       "      <td>Charlotte</td>\n",
       "      <td>non-violent</td>\n",
       "    </tr>\n",
       "    <tr>\n",
       "      <th>489981</th>\n",
       "      <td>490720</td>\n",
       "      <td>20220513_2308_489982</td>\n",
       "      <td>22</td>\n",
       "      <td>Commercial Place</td>\n",
       "      <td>Cleared by Arrest</td>\n",
       "      <td>13B</td>\n",
       "      <td>Charlotte</td>\n",
       "      <td>violent</td>\n",
       "    </tr>\n",
       "    <tr>\n",
       "      <th>489982</th>\n",
       "      <td>490721</td>\n",
       "      <td>20220513_2308_489983</td>\n",
       "      <td>2</td>\n",
       "      <td>Residential</td>\n",
       "      <td>Open</td>\n",
       "      <td>290</td>\n",
       "      <td>Charlotte</td>\n",
       "      <td>non-violent</td>\n",
       "    </tr>\n",
       "    <tr>\n",
       "      <th>489983</th>\n",
       "      <td>490722</td>\n",
       "      <td>20220513_2308_489984</td>\n",
       "      <td>16</td>\n",
       "      <td>Commercial Place</td>\n",
       "      <td>Cleared by Arrest</td>\n",
       "      <td>90C</td>\n",
       "      <td>Charlotte</td>\n",
       "      <td>non-violent</td>\n",
       "    </tr>\n",
       "  </tbody>\n",
       "</table>\n",
       "</div>"
      ],
      "text/plain": [
       "        ROW_ID    INCIDENT_REPORT_ID  DIVISION_ID PLACE_TYPE_DESCRIPTION  \\\n",
       "489979  490718  20220513_2308_489980           12            Residential   \n",
       "489980  490719  20220513_2308_489981           27            Residential   \n",
       "489981  490720  20220513_2308_489982           22       Commercial Place   \n",
       "489982  490721  20220513_2308_489983            2            Residential   \n",
       "489983  490722  20220513_2308_489984           16       Commercial Place   \n",
       "\n",
       "         CLEARANCE_STATUS HIGHEST_NIBRS_CODE   CITY_NEW     VIOLENCE  \n",
       "489979               Open                13A  Charlotte      violent  \n",
       "489980               Open                290  Charlotte  non-violent  \n",
       "489981  Cleared by Arrest                13B  Charlotte      violent  \n",
       "489982               Open                290  Charlotte  non-violent  \n",
       "489983  Cleared by Arrest                90C  Charlotte  non-violent  "
      ]
     },
     "execution_count": 161,
     "metadata": {},
     "output_type": "execute_result"
    }
   ],
   "source": [
    "file_path.tail()"
   ]
  },
  {
   "cell_type": "code",
   "execution_count": 162,
   "id": "e208dc0e",
   "metadata": {},
   "outputs": [
    {
     "data": {
      "text/plain": [
       "ROW_ID                    0.0\n",
       "INCIDENT_REPORT_ID        0.0\n",
       "DIVISION_ID               0.0\n",
       "PLACE_TYPE_DESCRIPTION    0.0\n",
       "CLEARANCE_STATUS          0.0\n",
       "HIGHEST_NIBRS_CODE        0.0\n",
       "CITY_NEW                  0.0\n",
       "VIOLENCE                  0.0\n",
       "dtype: float64"
      ]
     },
     "execution_count": 162,
     "metadata": {},
     "output_type": "execute_result"
    }
   ],
   "source": [
    "file_path.isnull().mean().sort_values()"
   ]
  },
  {
   "cell_type": "code",
   "execution_count": 163,
   "id": "366ce60b",
   "metadata": {
    "scrolled": true
   },
   "outputs": [],
   "source": [
    "# prepare data\n",
    "# split into input and target features\n",
    "X = file_path[['ROW_ID', 'DIVISION_ID']]\n",
    "y = file_path.VIOLENCE"
   ]
  },
  {
   "cell_type": "code",
   "execution_count": 164,
   "id": "711e23f5",
   "metadata": {},
   "outputs": [
    {
     "data": {
      "text/html": [
       "<div>\n",
       "<style scoped>\n",
       "    .dataframe tbody tr th:only-of-type {\n",
       "        vertical-align: middle;\n",
       "    }\n",
       "\n",
       "    .dataframe tbody tr th {\n",
       "        vertical-align: top;\n",
       "    }\n",
       "\n",
       "    .dataframe thead th {\n",
       "        text-align: right;\n",
       "    }\n",
       "</style>\n",
       "<table border=\"1\" class=\"dataframe\">\n",
       "  <thead>\n",
       "    <tr style=\"text-align: right;\">\n",
       "      <th></th>\n",
       "      <th>ROW_ID</th>\n",
       "      <th>DIVISION_ID</th>\n",
       "    </tr>\n",
       "  </thead>\n",
       "  <tbody>\n",
       "    <tr>\n",
       "      <th>count</th>\n",
       "      <td>489984.000000</td>\n",
       "      <td>489984.000000</td>\n",
       "    </tr>\n",
       "    <tr>\n",
       "      <th>mean</th>\n",
       "      <td>245359.852471</td>\n",
       "      <td>14.330948</td>\n",
       "    </tr>\n",
       "    <tr>\n",
       "      <th>std</th>\n",
       "      <td>141654.513862</td>\n",
       "      <td>8.494614</td>\n",
       "    </tr>\n",
       "    <tr>\n",
       "      <th>min</th>\n",
       "      <td>0.000000</td>\n",
       "      <td>0.000000</td>\n",
       "    </tr>\n",
       "    <tr>\n",
       "      <th>25%</th>\n",
       "      <td>122696.750000</td>\n",
       "      <td>7.000000</td>\n",
       "    </tr>\n",
       "    <tr>\n",
       "      <th>50%</th>\n",
       "      <td>245365.500000</td>\n",
       "      <td>14.000000</td>\n",
       "    </tr>\n",
       "    <tr>\n",
       "      <th>75%</th>\n",
       "      <td>368030.250000</td>\n",
       "      <td>21.000000</td>\n",
       "    </tr>\n",
       "    <tr>\n",
       "      <th>max</th>\n",
       "      <td>490722.000000</td>\n",
       "      <td>92.000000</td>\n",
       "    </tr>\n",
       "  </tbody>\n",
       "</table>\n",
       "</div>"
      ],
      "text/plain": [
       "              ROW_ID    DIVISION_ID\n",
       "count  489984.000000  489984.000000\n",
       "mean   245359.852471      14.330948\n",
       "std    141654.513862       8.494614\n",
       "min         0.000000       0.000000\n",
       "25%    122696.750000       7.000000\n",
       "50%    245365.500000      14.000000\n",
       "75%    368030.250000      21.000000\n",
       "max    490722.000000      92.000000"
      ]
     },
     "execution_count": 164,
     "metadata": {},
     "output_type": "execute_result"
    }
   ],
   "source": [
    "X.describe()"
   ]
  },
  {
   "cell_type": "code",
   "execution_count": 165,
   "id": "35f1f06c",
   "metadata": {},
   "outputs": [],
   "source": [
    "# build model\n",
    "# split into test and training sets\n",
    "X_train, X_test, y_train, y_test = train_test_split(\n",
    "X, y, random_state=1, stratify=y)\n"
   ]
  },
  {
   "cell_type": "code",
   "execution_count": 166,
   "id": "0caddd56",
   "metadata": {},
   "outputs": [],
   "source": [
    "logisticRegr = LogisticRegression()\n"
   ]
  },
  {
   "cell_type": "code",
   "execution_count": 167,
   "id": "9ff5a99b",
   "metadata": {},
   "outputs": [
    {
     "data": {
      "text/plain": [
       "LogisticRegression()"
      ]
     },
     "execution_count": 167,
     "metadata": {},
     "output_type": "execute_result"
    }
   ],
   "source": [
    "logisticRegr.fit(X_train, y_train)\n"
   ]
  },
  {
   "cell_type": "code",
   "execution_count": 168,
   "id": "597924b2",
   "metadata": {},
   "outputs": [],
   "source": [
    "classifier = LogisticRegression(solver='lbfgs',\n",
    "   max_iter=200,\n",
    "   random_state=1)"
   ]
  },
  {
   "cell_type": "code",
   "execution_count": 169,
   "id": "65461825",
   "metadata": {},
   "outputs": [
    {
     "data": {
      "text/plain": [
       "LogisticRegression(max_iter=200, random_state=42)"
      ]
     },
     "execution_count": 169,
     "metadata": {},
     "output_type": "execute_result"
    }
   ],
   "source": [
    "classifier.fit(X_train, y_train)\n"
   ]
  },
  {
   "cell_type": "code",
   "execution_count": 170,
   "id": "7d9bfd56",
   "metadata": {},
   "outputs": [],
   "source": [
    "y_pred = classifier.predict(X_test)\n"
   ]
  },
  {
   "cell_type": "code",
   "execution_count": 171,
   "id": "4386c706",
   "metadata": {},
   "outputs": [
    {
     "name": "stdout",
     "output_type": "stream",
     "text": [
      "0.5355276907001045\n"
     ]
    }
   ],
   "source": [
    "print(accuracy_score(y_test, y_pred))\n"
   ]
  },
  {
   "cell_type": "code",
   "execution_count": 172,
   "id": "4afc63e9",
   "metadata": {},
   "outputs": [
    {
     "data": {
      "text/plain": [
       "LogisticRegression(max_iter=200, multi_class='warn', penalty='12',\n",
       "                   random_state=42)"
      ]
     },
     "execution_count": 172,
     "metadata": {},
     "output_type": "execute_result"
    }
   ],
   "source": [
    "LogisticRegression(C=1.0, class_weight=None, dual=False, fit_intercept=True,\n",
    "   intercept_scaling=1, max_iter=200, multi_class='warn', penalty='12',\n",
    "   random_state=1, solver='lbfgs', warm_start=False)"
   ]
  },
  {
   "cell_type": "code",
   "execution_count": null,
   "id": "4723bade",
   "metadata": {},
   "outputs": [],
   "source": []
  },
  {
   "cell_type": "code",
   "execution_count": 150,
   "id": "9f9e5a60",
   "metadata": {},
   "outputs": [
    {
     "data": {
      "text/html": [
       "<div>\n",
       "<style scoped>\n",
       "    .dataframe tbody tr th:only-of-type {\n",
       "        vertical-align: middle;\n",
       "    }\n",
       "\n",
       "    .dataframe tbody tr th {\n",
       "        vertical-align: top;\n",
       "    }\n",
       "\n",
       "    .dataframe thead th {\n",
       "        text-align: right;\n",
       "    }\n",
       "</style>\n",
       "<table border=\"1\" class=\"dataframe\">\n",
       "  <thead>\n",
       "    <tr style=\"text-align: right;\">\n",
       "      <th></th>\n",
       "      <th>Prediction</th>\n",
       "      <th>Actual</th>\n",
       "    </tr>\n",
       "  </thead>\n",
       "  <tbody>\n",
       "    <tr>\n",
       "      <th>80309</th>\n",
       "      <td>non-violent</td>\n",
       "      <td>violent</td>\n",
       "    </tr>\n",
       "    <tr>\n",
       "      <th>381479</th>\n",
       "      <td>non-violent</td>\n",
       "      <td>non-violent</td>\n",
       "    </tr>\n",
       "    <tr>\n",
       "      <th>121208</th>\n",
       "      <td>non-violent</td>\n",
       "      <td>violent</td>\n",
       "    </tr>\n",
       "    <tr>\n",
       "      <th>361820</th>\n",
       "      <td>non-violent</td>\n",
       "      <td>violent</td>\n",
       "    </tr>\n",
       "    <tr>\n",
       "      <th>186676</th>\n",
       "      <td>non-violent</td>\n",
       "      <td>violent</td>\n",
       "    </tr>\n",
       "    <tr>\n",
       "      <th>...</th>\n",
       "      <td>...</td>\n",
       "      <td>...</td>\n",
       "    </tr>\n",
       "    <tr>\n",
       "      <th>274582</th>\n",
       "      <td>non-violent</td>\n",
       "      <td>non-violent</td>\n",
       "    </tr>\n",
       "    <tr>\n",
       "      <th>363447</th>\n",
       "      <td>non-violent</td>\n",
       "      <td>violent</td>\n",
       "    </tr>\n",
       "    <tr>\n",
       "      <th>452692</th>\n",
       "      <td>non-violent</td>\n",
       "      <td>non-violent</td>\n",
       "    </tr>\n",
       "    <tr>\n",
       "      <th>89710</th>\n",
       "      <td>non-violent</td>\n",
       "      <td>non-violent</td>\n",
       "    </tr>\n",
       "    <tr>\n",
       "      <th>144689</th>\n",
       "      <td>non-violent</td>\n",
       "      <td>violent</td>\n",
       "    </tr>\n",
       "  </tbody>\n",
       "</table>\n",
       "<p>122496 rows × 2 columns</p>\n",
       "</div>"
      ],
      "text/plain": [
       "         Prediction       Actual\n",
       "80309   non-violent      violent\n",
       "381479  non-violent  non-violent\n",
       "121208  non-violent      violent\n",
       "361820  non-violent      violent\n",
       "186676  non-violent      violent\n",
       "...             ...          ...\n",
       "274582  non-violent  non-violent\n",
       "363447  non-violent      violent\n",
       "452692  non-violent  non-violent\n",
       "89710   non-violent  non-violent\n",
       "144689  non-violent      violent\n",
       "\n",
       "[122496 rows x 2 columns]"
      ]
     },
     "execution_count": 150,
     "metadata": {},
     "output_type": "execute_result"
    }
   ],
   "source": [
    "predictions = classifier.predict(X_test)\n",
    "pd.DataFrame({\"Prediction\": predictions, \"Actual\": y_test})"
   ]
  },
  {
   "cell_type": "code",
   "execution_count": 151,
   "id": "e1716e00",
   "metadata": {},
   "outputs": [
    {
     "data": {
      "text/plain": [
       "0.5355276907001045"
      ]
     },
     "execution_count": 151,
     "metadata": {},
     "output_type": "execute_result"
    }
   ],
   "source": [
    "accuracy_score(y_test, predictions)\n"
   ]
  },
  {
   "cell_type": "code",
   "execution_count": 152,
   "id": "3a8f88cd",
   "metadata": {},
   "outputs": [
    {
     "name": "stdout",
     "output_type": "stream",
     "text": [
      "[[65600     0]\n",
      " [56896     0]]\n"
     ]
    }
   ],
   "source": [
    "matrix = confusion_matrix(y_test, y_pred)\n",
    "print(matrix)"
   ]
  },
  {
   "cell_type": "code",
   "execution_count": 153,
   "id": "5a995185",
   "metadata": {},
   "outputs": [
    {
     "name": "stdout",
     "output_type": "stream",
     "text": [
      "Classes are either 0 (purple) or 1 (yellow)\n",
      "The new point was classified as: ['violent']\n"
     ]
    }
   ],
   "source": [
    "predictions = classifier.predict(new_data)\n",
    "print(\"Classes are either 0 (purple) or 1 (yellow)\")\n",
    "print(f\"The new point was classified as: {predictions}\")"
   ]
  },
  {
   "cell_type": "code",
   "execution_count": 154,
   "id": "26db6080",
   "metadata": {
    "scrolled": true
   },
   "outputs": [
    {
     "name": "stdout",
     "output_type": "stream",
     "text": [
      "The Accuracy for Test Set is 53.552769070010456\n"
     ]
    }
   ],
   "source": [
    "# Evaluatinf on test set\n",
    "test_acc = accuracy_score(y_test, y_pred)\n",
    "print(\"The Accuracy for Test Set is {}\".format(test_acc*100))"
   ]
  },
  {
   "cell_type": "code",
   "execution_count": 155,
   "id": "54c22824",
   "metadata": {
    "scrolled": true
   },
   "outputs": [
    {
     "name": "stderr",
     "output_type": "stream",
     "text": [
      "C:\\Users\\lizzi\\anaconda3\\envs\\PythonData\\envs\\PythonData\\envs\\mlenv\\lib\\site-packages\\sklearn\\metrics\\_classification.py:1248: UndefinedMetricWarning: Precision and F-score are ill-defined and being set to 0.0 in labels with no predicted samples. Use `zero_division` parameter to control this behavior.\n",
      "  _warn_prf(average, modifier, msg_start, len(result))\n",
      "C:\\Users\\lizzi\\anaconda3\\envs\\PythonData\\envs\\PythonData\\envs\\mlenv\\lib\\site-packages\\sklearn\\metrics\\_classification.py:1248: UndefinedMetricWarning: Precision and F-score are ill-defined and being set to 0.0 in labels with no predicted samples. Use `zero_division` parameter to control this behavior.\n",
      "  _warn_prf(average, modifier, msg_start, len(result))\n"
     ]
    },
    {
     "name": "stdout",
     "output_type": "stream",
     "text": [
      "              precision    recall  f1-score   support\n",
      "\n",
      " non-violent       0.54      1.00      0.70     65600\n",
      "     violent       0.00      0.00      0.00     56896\n",
      "\n",
      "    accuracy                           0.54    122496\n",
      "   macro avg       0.27      0.50      0.35    122496\n",
      "weighted avg       0.29      0.54      0.37    122496\n",
      "\n"
     ]
    },
    {
     "name": "stderr",
     "output_type": "stream",
     "text": [
      "C:\\Users\\lizzi\\anaconda3\\envs\\PythonData\\envs\\PythonData\\envs\\mlenv\\lib\\site-packages\\sklearn\\metrics\\_classification.py:1248: UndefinedMetricWarning: Precision and F-score are ill-defined and being set to 0.0 in labels with no predicted samples. Use `zero_division` parameter to control this behavior.\n",
      "  _warn_prf(average, modifier, msg_start, len(result))\n"
     ]
    }
   ],
   "source": [
    "# generating classification report\n",
    "print(classification_report(y_test, y_pred))\n"
   ]
  },
  {
   "cell_type": "code",
   "execution_count": 156,
   "id": "dd606757",
   "metadata": {},
   "outputs": [
    {
     "name": "stderr",
     "output_type": "stream",
     "text": [
      "C:\\Users\\lizzi\\anaconda3\\envs\\PythonData\\envs\\PythonData\\envs\\mlenv\\lib\\site-packages\\sklearn\\metrics\\_classification.py:1248: UndefinedMetricWarning: Precision and F-score are ill-defined and being set to 0.0 in labels with no predicted samples. Use `zero_division` parameter to control this behavior.\n",
      "  _warn_prf(average, modifier, msg_start, len(result))\n"
     ]
    },
    {
     "name": "stdout",
     "output_type": "stream",
     "text": [
      "                   pre       rec       spe        f1       geo       iba       sup\n",
      "\n",
      "non-violent       0.54      1.00      0.00      0.70      0.00      0.00     65600\n",
      "    violent       0.00      0.00      1.00      0.00      0.00      0.00     56896\n",
      "\n",
      "avg / total       0.29      0.54      0.46      0.37      0.00      0.00    122496\n",
      "\n"
     ]
    }
   ],
   "source": [
    "# Print the imbalanced classification report\n",
    "from imblearn.metrics import classification_report_imbalanced\n",
    "print(classification_report_imbalanced(y_test, y_pred))"
   ]
  },
  {
   "cell_type": "code",
   "execution_count": null,
   "id": "d8d4d7a0",
   "metadata": {},
   "outputs": [],
   "source": []
  },
  {
   "cell_type": "code",
   "execution_count": null,
   "id": "4b102779",
   "metadata": {},
   "outputs": [],
   "source": []
  }
 ],
 "metadata": {
  "kernelspec": {
   "display_name": "mlenv",
   "language": "python",
   "name": "mlenv"
  },
  "language_info": {
   "codemirror_mode": {
    "name": "ipython",
    "version": 3
   },
   "file_extension": ".py",
   "mimetype": "text/x-python",
   "name": "python",
   "nbconvert_exporter": "python",
   "pygments_lexer": "ipython3",
   "version": "3.7.11"
  }
 },
 "nbformat": 4,
 "nbformat_minor": 5
}
